{
  "nbformat": 4,
  "nbformat_minor": 0,
  "metadata": {
    "colab": {
      "provenance": [],
      "collapsed_sections": [
        "d9jDtUbDOE1-",
        "Ay4UkojwGskg",
        "5OFA-fmBohlJ",
        "042WnMxQotAX",
        "9Vc1xfxBnpal",
        "1FqEmBSNnj5v",
        "e3ElPGw0rZ5f",
        "6poQ6YN7riqu",
        "6k-4cGE8mvep",
        "s9IZBReZnNAi"
      ]
    },
    "kernelspec": {
      "name": "python3",
      "display_name": "Python 3"
    }
  },
  "cells": [
    {
      "cell_type": "markdown",
      "metadata": {
        "id": "KJqp9AANOCtf"
      },
      "source": [
        "<h1>TSE - Tribunal Superior Eleitoral</h1>\n",
        "Eleições de 2022\n",
        "\n",
        "---\n",
        "<h2>\n",
        "# *Análise Exploratória de Dados com Python\n",
        "</h2>\n",
        "\n",
        "```\n",
        "Munícipio: Belo Horizonte, MG\n",
        "Zona eleitoral: 0031\n",
        "Seção: 0001\n",
        "\n",
        "```\n",
        "Autor: [Bruno Alves]<br>(https://www.linkedin.com/in/casima/)<br>\n",
        "01/12/2022\n",
        "\n",
        "---"
      ]
    },
    {
      "cell_type": "markdown",
      "metadata": {
        "id": "d9jDtUbDOE1-"
      },
      "source": [
        "# **Tópicos**\n",
        "\n",
        "<ol type=\"1\">\n",
        "  <li>Introdução;</li>\n",
        "  <li>Exploração;</li>\n",
        "  <li>Processamento;</li>\n",
        "  <li>Visualização;</li>\n",
        "  <li>Divulgação.</li>\n",
        "</ol>"
      ]
    },
    {
      "cell_type": "markdown",
      "metadata": {
        "id": "SmoHgt-lwkpD"
      },
      "source": [
        "---"
      ]
    },
    {
      "cell_type": "markdown",
      "metadata": {
        "id": "GABI6OW8OfQ2"
      },
      "source": [
        "# **Etapas**"
      ]
    },
    {
      "cell_type": "markdown",
      "source": [
        "## 1\\. Introdução"
      ],
      "metadata": {
        "id": "-Rig-cljwJdi"
      }
    },
    {
      "cell_type": "markdown",
      "source": [
        "*Vamos* entender o contexto de negócio que estamos inseridos utilizando o ***Google Colab***."
      ],
      "metadata": {
        "id": "lNGqwyhiE1vq"
      }
    },
    {
      "cell_type": "markdown",
      "source": [
        "### **1.1. Contexto** "
      ],
      "metadata": {
        "id": "Ay4UkojwGskg"
      }
    },
    {
      "cell_type": "markdown",
      "metadata": {
        "id": "JUonSt7kxZyj"
      },
      "source": [
        "O tribunal superior eleitoral (TSE) disponibilizou os dados brutos das urnas de votação utilizadas durante o processo eleitoral de 2022. No site do TSE ([link](https://resultados.tse.jus.br/oficial/app/index.html#/eleicao/resultados)) encontra-se os seguintes dados para cada urna:"
      ]
    },
    {
      "cell_type": "markdown",
      "source": [
        " - **Registro Digital do Voto (RDV)**: Registro unitário dos votos;\n",
        " - **Boletim de Urna**: Resultados agregados;\n",
        " - **Log de Urna**: Todos os eventos que ocorreram na urna."
      ],
      "metadata": {
        "id": "M5K99BBs9C1Q"
      }
    },
    {
      "cell_type": "markdown",
      "source": [
        "A documentação técnica para o processamento dos arquivo também se encontra no website do TSE ([link](https://www.tse.jus.br/eleicoes/eleicoes-2022/documentacao-tecnica-do-software-da-urna-eletronica))."
      ],
      "metadata": {
        "id": "KIzpIja__Xob"
      }
    },
    {
      "cell_type": "markdown",
      "source": [
        "> Para uma única urna (estado, cidade, zona e seção), vamos utilizar o **Python** para processar o seu arquivo **RDV** e replicar os valores agregados do seu **Boletim de Urna** para o segundo turno de votação para presidente do processo eleitoral de 2022."
      ],
      "metadata": {
        "id": "19a6O3YOhlmq"
      }
    },
    {
      "cell_type": "markdown",
      "metadata": {
        "id": "muD1vxozykSC"
      },
      "source": [
        "### **1.2. Google Colab**"
      ]
    },
    {
      "cell_type": "markdown",
      "metadata": {
        "id": "xT1ohV3t0FQJ"
      },
      "source": [
        "> Ferramenta web autogerênciada de cadernos (*notebooks*)."
      ]
    },
    {
      "cell_type": "markdown",
      "metadata": {
        "id": "5a3_syBIP6yO"
      },
      "source": [
        "**Ferramenta web**"
      ]
    },
    {
      "cell_type": "markdown",
      "metadata": {
        "id": "xF1tFQyRQag2"
      },
      "source": [
        "\n",
        "\n",
        "*   Conta Google em [gmail.com](https://gmail.com);\n",
        "*   Acesse o Google Colab através do endereço [colab.research.google.com](https://colab.research.google.com/).\n",
        "\n",
        "\n"
      ]
    },
    {
      "cell_type": "markdown",
      "metadata": {
        "id": "VkIgtLmhQRDV"
      },
      "source": [
        "**Autogerênciada** "
      ]
    },
    {
      "cell_type": "markdown",
      "metadata": {
        "id": "P14BSbuH0SQB"
      },
      "source": [
        "\n",
        "\n",
        "*   A Google provisiona uma máquina virtual para você;\n",
        "*   A máquina virtual dura no máximo 12h.\n",
        "\n"
      ]
    },
    {
      "cell_type": "markdown",
      "metadata": {
        "id": "mIgaH380QG2e"
      },
      "source": [
        "**Cadernos (*notebooks*)** "
      ]
    },
    {
      "cell_type": "markdown",
      "metadata": {
        "id": "_4Q4H0RKm-4G"
      },
      "source": [
        "Um **caderno** é um documento *web* composto por um conjunto de elementos (células) de texto e código:\n",
        "\n",
        "\n",
        "*   Células de **texto** podem ser editados com o editor da ferramenta, HTML ou Markdown; \n",
        "*   Células de **código** são exclusivamente para a linguagem de programação Python.\n",
        "\n"
      ]
    },
    {
      "cell_type": "code",
      "metadata": {
        "id": "ILZGen4Ob_vC"
      },
      "source": [
        "print(\"olá, mundo!\")"
      ],
      "execution_count": null,
      "outputs": []
    },
    {
      "cell_type": "markdown",
      "metadata": {
        "id": "EvJTE2FpaGeU"
      },
      "source": [
        "## 2\\. Exploração"
      ]
    },
    {
      "cell_type": "markdown",
      "metadata": {
        "id": "ISYXZbomlb1x"
      },
      "source": [
        "**Vamos explorar**, limpar e extrair os votos do arquivo RDV."
      ]
    },
    {
      "cell_type": "markdown",
      "source": [
        "### **2.1. Upload** "
      ],
      "metadata": {
        "id": "DDpx-CqDoEMB"
      }
    },
    {
      "cell_type": "markdown",
      "source": [
        "No site de resultados do TSE ([link](https://resultados.tse.jus.br/oficial/app/index.html)), selecione os dados de uma única urna, faça o *download* do arquivo RDV e então, o seu *upload* no ambiente do Google Colab. "
      ],
      "metadata": {
        "id": "aY9hV7LkoEQv"
      }
    },
    {
      "cell_type": "markdown",
      "source": [
        "### **2.2. Descriptografia** "
      ],
      "metadata": {
        "id": "8lvsCpnSoR0k"
      }
    },
    {
      "cell_type": "code",
      "source": [
        "from google.colab import drive\n",
        "drive.mount('/content/drive')"
      ],
      "metadata": {
        "colab": {
          "base_uri": "https://localhost:8080/"
        },
        "id": "121retyIH4cq",
        "outputId": "348bd117-885a-49c0-a2ee-d20599dc15fc"
      },
      "execution_count": 139,
      "outputs": [
        {
          "output_type": "stream",
          "name": "stdout",
          "text": [
            "Drive already mounted at /content/drive; to attempt to forcibly remount, call drive.mount(\"/content/drive\", force_remount=True).\n"
          ]
        }
      ]
    },
    {
      "cell_type": "code",
      "source": [],
      "metadata": {
        "id": "lsUNO5PGqqUT"
      },
      "execution_count": 139,
      "outputs": []
    },
    {
      "cell_type": "markdown",
      "source": [
        "Código disponibilizado pelo próprio TSE para descriptografar. ([link](https://www.tse.jus.br/eleicoes/eleicoes-2022/documentacao-tecnica-do-software-da-urna-eletronica)). Para descriptografar o arquivo RDV em um arquivo de texto. O código foi replicado neste [link](https://raw.githubusercontent.com/andre-marcos-perez/ebac-course-utils/develop/notebooks/2022_11_29/rdv.py) para facilitar a sua integração com o Google Colab."
      ],
      "metadata": {
        "id": "ue3LBOvcap6Z"
      }
    },
    {
      "cell_type": "markdown",
      "source": [
        " - Faça o *download* do código de descriptografia."
      ],
      "metadata": {
        "id": "Y2XahMe2BMQM"
      }
    },
    {
      "cell_type": "code",
      "source": [
        "!curl -s https://raw.githubusercontent.com/casima/eleicao-2022-presidente/main/descriptografia/rdv.py -o rdv.py"
      ],
      "metadata": {
        "id": "bamgYxoFYPjM"
      },
      "execution_count": 140,
      "outputs": []
    },
    {
      "cell_type": "markdown",
      "source": [
        " - Instale o pacote de criptografia utilizado pelo código."
      ],
      "metadata": {
        "id": "UPbccDxhBXMo"
      }
    },
    {
      "cell_type": "code",
      "source": [
        "!pip install asn1crypto==1.5.1"
      ],
      "metadata": {
        "id": "EQew9bbvZ4L2",
        "colab": {
          "base_uri": "https://localhost:8080/"
        },
        "outputId": "51d8615d-d250-4700-bf72-fca4291a75bf"
      },
      "execution_count": 11,
      "outputs": [
        {
          "output_type": "stream",
          "name": "stdout",
          "text": [
            "Looking in indexes: https://pypi.org/simple, https://us-python.pkg.dev/colab-wheels/public/simple/\n",
            "Collecting asn1crypto==1.5.1\n",
            "  Downloading asn1crypto-1.5.1-py2.py3-none-any.whl (105 kB)\n",
            "\u001b[2K     \u001b[90m━━━━━━━━━━━━━━━━━━━━━━━━━━━━━━━━━━━━━━━\u001b[0m \u001b[32m105.0/105.0 KB\u001b[0m \u001b[31m3.0 MB/s\u001b[0m eta \u001b[36m0:00:00\u001b[0m\n",
            "\u001b[?25hInstalling collected packages: asn1crypto\n",
            "Successfully installed asn1crypto-1.5.1\n"
          ]
        }
      ]
    },
    {
      "cell_type": "markdown",
      "source": [
        " - Substitua o texto `<NOME-DO-ARQUIVO-RDV>` pelo nome do arquivo RDV escolhido."
      ],
      "metadata": {
        "id": "DgdhKNTsA9dc"
      }
    },
    {
      "cell_type": "code",
      "source": [
        "!python rdv.py -r o00407-4123800310001.rdv > rdv.txt"
      ],
      "metadata": {
        "id": "xHTxWEvyNd0y",
        "colab": {
          "base_uri": "https://localhost:8080/"
        },
        "outputId": "c6640a7b-8155-456f-db6c-4daebf19b031"
      },
      "execution_count": 138,
      "outputs": [
        {
          "output_type": "stream",
          "name": "stdout",
          "text": [
            "2023-03-07 23:09:06,663 - INFO - Converte RDV o00407-4123800310001.rdv\n"
          ]
        }
      ]
    },
    {
      "cell_type": "markdown",
      "source": [
        "### **2.3. Limpeza** "
      ],
      "metadata": {
        "id": "5OFA-fmBohlJ"
      }
    },
    {
      "cell_type": "markdown",
      "source": [
        "Na etapa de limpeza, vamos selecionar apenas as linhas do arquivo RDV referentes a votação para presidente."
      ],
      "metadata": {
        "id": "d4zw67ZOc-Cm"
      }
    },
    {
      "cell_type": "code",
      "source": [
        "content = []\n",
        "\n",
        "with open(file=\"rdv.txt\", mode=\"r\") as fp:\n",
        "  for line in fp.readlines():\n",
        "    if \"Governador\" in line:\n",
        "      break\n",
        "    else:\n",
        "      content.append(line)"
      ],
      "metadata": {
        "id": "TrBosvhCc-0W"
      },
      "execution_count": 13,
      "outputs": []
    },
    {
      "cell_type": "code",
      "source": [
        "len(content)"
      ],
      "metadata": {
        "id": "HDTFc1M5grsT",
        "colab": {
          "base_uri": "https://localhost:8080/"
        },
        "outputId": "cb77f25c-42e8-4100-d407-a04958768f93"
      },
      "execution_count": 14,
      "outputs": [
        {
          "output_type": "execute_result",
          "data": {
            "text/plain": [
              "288"
            ]
          },
          "metadata": {},
          "execution_count": 14
        }
      ]
    },
    {
      "cell_type": "code",
      "source": [
        "for line in content[0:10]:\n",
        "  print(line)"
      ],
      "metadata": {
        "id": "r0NNW-xhgjZ0",
        "colab": {
          "base_uri": "https://localhost:8080/"
        },
        "outputId": "fd894fa6-509e-44c5-9916-98496910caf3"
      },
      "execution_count": 15,
      "outputs": [
        {
          "output_type": "stream",
          "name": "stdout",
          "text": [
            "========================================\n",
            "\n",
            "----------------------------------------\n",
            "\n",
            "Presidente\n",
            "\n",
            "  1 - nominal  - [13]\n",
            "\n",
            "  2 - nominal  - [13]\n",
            "\n",
            "  3 - nominal  - [13]\n",
            "\n",
            "  4 - nominal  - [13]\n",
            "\n",
            "  5 - nominal  - [13]\n",
            "\n",
            "  6 - nominal  - [13]\n",
            "\n",
            "  7 - nominal  - [13]\n",
            "\n"
          ]
        }
      ]
    },
    {
      "cell_type": "markdown",
      "source": [
        "### **2.4. Extração** "
      ],
      "metadata": {
        "id": "042WnMxQotAX"
      }
    },
    {
      "cell_type": "markdown",
      "source": [
        "Na etapa de extração, vamos extrair apenas os dados de votação."
      ],
      "metadata": {
        "id": "2QpIbXo6gkMY"
      }
    },
    {
      "cell_type": "code",
      "source": [
        "import re"
      ],
      "metadata": {
        "id": "OO99O3ubgh4J"
      },
      "execution_count": 86,
      "outputs": []
    },
    {
      "cell_type": "code",
      "source": [
        "pattern = re.compile(pattern=\"\\[(.*?)\\]\")"
      ],
      "metadata": {
        "id": "jpUIsVTkg5U1"
      },
      "execution_count": 18,
      "outputs": []
    },
    {
      "cell_type": "code",
      "source": [
        "votes = []\n",
        "\n",
        "for line in content:\n",
        "\n",
        "  if \"branco\" in line:\n",
        "\n",
        "    votes.append({\"voto\": \"branco\", \"quantidade\": 1})\n",
        "\n",
        "  if \"nulo\" in line:\n",
        "\n",
        "    votes.append({\"voto\": \"nulo\", \"quantidade\": 1})\n",
        "\n",
        "  if \"nominal\" in line:\n",
        "\n",
        "    vote = re.findall(pattern=pattern, string=line)[0]\n",
        "    votes.append({\"voto\": f\"{vote}\", \"quantidade\": 1})"
      ],
      "metadata": {
        "id": "3yLyf43df-x1"
      },
      "execution_count": 55,
      "outputs": []
    },
    {
      "cell_type": "code",
      "source": [
        "len(votes)"
      ],
      "metadata": {
        "id": "XjXerw1QhhfK",
        "colab": {
          "base_uri": "https://localhost:8080/"
        },
        "outputId": "c71e95f5-3641-416d-b4c5-144e4ce99203"
      },
      "execution_count": 20,
      "outputs": [
        {
          "output_type": "execute_result",
          "data": {
            "text/plain": [
              "284"
            ]
          },
          "metadata": {},
          "execution_count": 20
        }
      ]
    },
    {
      "cell_type": "code",
      "source": [
        "for vote in votes[0:10]:\n",
        "  print(vote)"
      ],
      "metadata": {
        "id": "-OaGwIXSjiBz",
        "colab": {
          "base_uri": "https://localhost:8080/"
        },
        "outputId": "6862cc46-f409-43ac-af45-2065e8b3a466"
      },
      "execution_count": 21,
      "outputs": [
        {
          "output_type": "stream",
          "name": "stdout",
          "text": [
            "{'voto': '13', 'quantidade': 1}\n",
            "{'voto': '13', 'quantidade': 1}\n",
            "{'voto': '13', 'quantidade': 1}\n",
            "{'voto': '13', 'quantidade': 1}\n",
            "{'voto': '13', 'quantidade': 1}\n",
            "{'voto': '13', 'quantidade': 1}\n",
            "{'voto': '13', 'quantidade': 1}\n",
            "{'voto': '13', 'quantidade': 1}\n",
            "{'voto': '13', 'quantidade': 1}\n",
            "{'voto': '13', 'quantidade': 1}\n"
          ]
        }
      ]
    },
    {
      "cell_type": "markdown",
      "source": [
        "## 3\\. Processamento"
      ],
      "metadata": {
        "id": "9Vc1xfxBnpal"
      }
    },
    {
      "cell_type": "markdown",
      "source": [
        "Etapa agregar os votos extraídos do arquivo RDV."
      ],
      "metadata": {
        "id": "aYgj8tEKn3WV"
      }
    },
    {
      "cell_type": "code",
      "source": [
        "for vote in votes[0:10]:\n",
        "  print(vote)"
      ],
      "metadata": {
        "id": "yvrLD_U8n4mh",
        "colab": {
          "base_uri": "https://localhost:8080/"
        },
        "outputId": "7f489d56-7a40-48ef-c0d2-98b977f16551"
      },
      "execution_count": 57,
      "outputs": [
        {
          "output_type": "stream",
          "name": "stdout",
          "text": [
            "{'voto': '13', 'quantidade': 1}\n",
            "{'voto': '13', 'quantidade': 1}\n",
            "{'voto': '13', 'quantidade': 1}\n",
            "{'voto': '13', 'quantidade': 1}\n",
            "{'voto': '13', 'quantidade': 1}\n",
            "{'voto': '13', 'quantidade': 1}\n",
            "{'voto': '13', 'quantidade': 1}\n",
            "{'voto': '13', 'quantidade': 1}\n",
            "{'voto': '13', 'quantidade': 1}\n",
            "{'voto': '13', 'quantidade': 1}\n"
          ]
        }
      ]
    },
    {
      "cell_type": "markdown",
      "source": [
        "### **3.1. Pandas**"
      ],
      "metadata": {
        "id": "1FqEmBSNnj5v"
      }
    },
    {
      "cell_type": "markdown",
      "source": [
        "Vamos utilizar o `Pandas`, o pacote **Python** mais utilizado para processamento de dados."
      ],
      "metadata": {
        "id": "Ci6sgZpOjodO"
      }
    },
    {
      "cell_type": "code",
      "source": [
        "import pandas as pd"
      ],
      "metadata": {
        "id": "ATSOc5bNjrgA"
      },
      "execution_count": 87,
      "outputs": []
    },
    {
      "cell_type": "markdown",
      "source": [
        "### **3.2. DataFrame**"
      ],
      "metadata": {
        "id": "e3ElPGw0rZ5f"
      }
    },
    {
      "cell_type": "markdown",
      "source": [
        "A abstração base do `Pandas` é o `DataFrame`, uma estrutura de dados que representa uma tabela de duas dimensões."
      ],
      "metadata": {
        "id": "stW_4PNKrhuX"
      }
    },
    {
      "cell_type": "code",
      "source": [
        "votes_table = pd.DataFrame(votes)"
      ],
      "metadata": {
        "id": "w_ppM8GSjs8o"
      },
      "execution_count": 59,
      "outputs": []
    },
    {
      "cell_type": "code",
      "source": [
        "votes_table.head(n=15)"
      ],
      "metadata": {
        "id": "XrlA5BULjzE5",
        "colab": {
          "base_uri": "https://localhost:8080/",
          "height": 520
        },
        "outputId": "6c0e24f3-f0c9-4857-e652-366c01777575"
      },
      "execution_count": 60,
      "outputs": [
        {
          "output_type": "execute_result",
          "data": {
            "text/plain": [
              "   voto  quantidade\n",
              "0    13           1\n",
              "1    13           1\n",
              "2    13           1\n",
              "3    13           1\n",
              "4    13           1\n",
              "5    13           1\n",
              "6    13           1\n",
              "7    13           1\n",
              "8    13           1\n",
              "9    13           1\n",
              "10   13           1\n",
              "11   13           1\n",
              "12   13           1\n",
              "13   13           1\n",
              "14   13           1"
            ],
            "text/html": [
              "\n",
              "  <div id=\"df-c5522077-9313-41b8-8165-7d2c14d44757\">\n",
              "    <div class=\"colab-df-container\">\n",
              "      <div>\n",
              "<style scoped>\n",
              "    .dataframe tbody tr th:only-of-type {\n",
              "        vertical-align: middle;\n",
              "    }\n",
              "\n",
              "    .dataframe tbody tr th {\n",
              "        vertical-align: top;\n",
              "    }\n",
              "\n",
              "    .dataframe thead th {\n",
              "        text-align: right;\n",
              "    }\n",
              "</style>\n",
              "<table border=\"1\" class=\"dataframe\">\n",
              "  <thead>\n",
              "    <tr style=\"text-align: right;\">\n",
              "      <th></th>\n",
              "      <th>voto</th>\n",
              "      <th>quantidade</th>\n",
              "    </tr>\n",
              "  </thead>\n",
              "  <tbody>\n",
              "    <tr>\n",
              "      <th>0</th>\n",
              "      <td>13</td>\n",
              "      <td>1</td>\n",
              "    </tr>\n",
              "    <tr>\n",
              "      <th>1</th>\n",
              "      <td>13</td>\n",
              "      <td>1</td>\n",
              "    </tr>\n",
              "    <tr>\n",
              "      <th>2</th>\n",
              "      <td>13</td>\n",
              "      <td>1</td>\n",
              "    </tr>\n",
              "    <tr>\n",
              "      <th>3</th>\n",
              "      <td>13</td>\n",
              "      <td>1</td>\n",
              "    </tr>\n",
              "    <tr>\n",
              "      <th>4</th>\n",
              "      <td>13</td>\n",
              "      <td>1</td>\n",
              "    </tr>\n",
              "    <tr>\n",
              "      <th>5</th>\n",
              "      <td>13</td>\n",
              "      <td>1</td>\n",
              "    </tr>\n",
              "    <tr>\n",
              "      <th>6</th>\n",
              "      <td>13</td>\n",
              "      <td>1</td>\n",
              "    </tr>\n",
              "    <tr>\n",
              "      <th>7</th>\n",
              "      <td>13</td>\n",
              "      <td>1</td>\n",
              "    </tr>\n",
              "    <tr>\n",
              "      <th>8</th>\n",
              "      <td>13</td>\n",
              "      <td>1</td>\n",
              "    </tr>\n",
              "    <tr>\n",
              "      <th>9</th>\n",
              "      <td>13</td>\n",
              "      <td>1</td>\n",
              "    </tr>\n",
              "    <tr>\n",
              "      <th>10</th>\n",
              "      <td>13</td>\n",
              "      <td>1</td>\n",
              "    </tr>\n",
              "    <tr>\n",
              "      <th>11</th>\n",
              "      <td>13</td>\n",
              "      <td>1</td>\n",
              "    </tr>\n",
              "    <tr>\n",
              "      <th>12</th>\n",
              "      <td>13</td>\n",
              "      <td>1</td>\n",
              "    </tr>\n",
              "    <tr>\n",
              "      <th>13</th>\n",
              "      <td>13</td>\n",
              "      <td>1</td>\n",
              "    </tr>\n",
              "    <tr>\n",
              "      <th>14</th>\n",
              "      <td>13</td>\n",
              "      <td>1</td>\n",
              "    </tr>\n",
              "  </tbody>\n",
              "</table>\n",
              "</div>\n",
              "      <button class=\"colab-df-convert\" onclick=\"convertToInteractive('df-c5522077-9313-41b8-8165-7d2c14d44757')\"\n",
              "              title=\"Convert this dataframe to an interactive table.\"\n",
              "              style=\"display:none;\">\n",
              "        \n",
              "  <svg xmlns=\"http://www.w3.org/2000/svg\" height=\"24px\"viewBox=\"0 0 24 24\"\n",
              "       width=\"24px\">\n",
              "    <path d=\"M0 0h24v24H0V0z\" fill=\"none\"/>\n",
              "    <path d=\"M18.56 5.44l.94 2.06.94-2.06 2.06-.94-2.06-.94-.94-2.06-.94 2.06-2.06.94zm-11 1L8.5 8.5l.94-2.06 2.06-.94-2.06-.94L8.5 2.5l-.94 2.06-2.06.94zm10 10l.94 2.06.94-2.06 2.06-.94-2.06-.94-.94-2.06-.94 2.06-2.06.94z\"/><path d=\"M17.41 7.96l-1.37-1.37c-.4-.4-.92-.59-1.43-.59-.52 0-1.04.2-1.43.59L10.3 9.45l-7.72 7.72c-.78.78-.78 2.05 0 2.83L4 21.41c.39.39.9.59 1.41.59.51 0 1.02-.2 1.41-.59l7.78-7.78 2.81-2.81c.8-.78.8-2.07 0-2.86zM5.41 20L4 18.59l7.72-7.72 1.47 1.35L5.41 20z\"/>\n",
              "  </svg>\n",
              "      </button>\n",
              "      \n",
              "  <style>\n",
              "    .colab-df-container {\n",
              "      display:flex;\n",
              "      flex-wrap:wrap;\n",
              "      gap: 12px;\n",
              "    }\n",
              "\n",
              "    .colab-df-convert {\n",
              "      background-color: #E8F0FE;\n",
              "      border: none;\n",
              "      border-radius: 50%;\n",
              "      cursor: pointer;\n",
              "      display: none;\n",
              "      fill: #1967D2;\n",
              "      height: 32px;\n",
              "      padding: 0 0 0 0;\n",
              "      width: 32px;\n",
              "    }\n",
              "\n",
              "    .colab-df-convert:hover {\n",
              "      background-color: #E2EBFA;\n",
              "      box-shadow: 0px 1px 2px rgba(60, 64, 67, 0.3), 0px 1px 3px 1px rgba(60, 64, 67, 0.15);\n",
              "      fill: #174EA6;\n",
              "    }\n",
              "\n",
              "    [theme=dark] .colab-df-convert {\n",
              "      background-color: #3B4455;\n",
              "      fill: #D2E3FC;\n",
              "    }\n",
              "\n",
              "    [theme=dark] .colab-df-convert:hover {\n",
              "      background-color: #434B5C;\n",
              "      box-shadow: 0px 1px 3px 1px rgba(0, 0, 0, 0.15);\n",
              "      filter: drop-shadow(0px 1px 2px rgba(0, 0, 0, 0.3));\n",
              "      fill: #FFFFFF;\n",
              "    }\n",
              "  </style>\n",
              "\n",
              "      <script>\n",
              "        const buttonEl =\n",
              "          document.querySelector('#df-c5522077-9313-41b8-8165-7d2c14d44757 button.colab-df-convert');\n",
              "        buttonEl.style.display =\n",
              "          google.colab.kernel.accessAllowed ? 'block' : 'none';\n",
              "\n",
              "        async function convertToInteractive(key) {\n",
              "          const element = document.querySelector('#df-c5522077-9313-41b8-8165-7d2c14d44757');\n",
              "          const dataTable =\n",
              "            await google.colab.kernel.invokeFunction('convertToInteractive',\n",
              "                                                     [key], {});\n",
              "          if (!dataTable) return;\n",
              "\n",
              "          const docLinkHtml = 'Like what you see? Visit the ' +\n",
              "            '<a target=\"_blank\" href=https://colab.research.google.com/notebooks/data_table.ipynb>data table notebook</a>'\n",
              "            + ' to learn more about interactive tables.';\n",
              "          element.innerHTML = '';\n",
              "          dataTable['output_type'] = 'display_data';\n",
              "          await google.colab.output.renderOutput(dataTable, element);\n",
              "          const docLink = document.createElement('div');\n",
              "          docLink.innerHTML = docLinkHtml;\n",
              "          element.appendChild(docLink);\n",
              "        }\n",
              "      </script>\n",
              "    </div>\n",
              "  </div>\n",
              "  "
            ]
          },
          "metadata": {},
          "execution_count": 60
        }
      ]
    },
    {
      "cell_type": "code",
      "source": [
        "votes_table.tail(n=15)"
      ],
      "metadata": {
        "colab": {
          "base_uri": "https://localhost:8080/",
          "height": 520
        },
        "id": "NPa5hWdBR4lW",
        "outputId": "a6bdcd61-632f-49ce-f7cf-0fa4a1828f73"
      },
      "execution_count": 61,
      "outputs": [
        {
          "output_type": "execute_result",
          "data": {
            "text/plain": [
              "       voto  quantidade\n",
              "269      22           1\n",
              "270      22           1\n",
              "271      22           1\n",
              "272  branco           1\n",
              "273  branco           1\n",
              "274  branco           1\n",
              "275  branco           1\n",
              "276  branco           1\n",
              "277  branco           1\n",
              "278    nulo           1\n",
              "279    nulo           1\n",
              "280    nulo           1\n",
              "281    nulo           1\n",
              "282    nulo           1\n",
              "283    nulo           1"
            ],
            "text/html": [
              "\n",
              "  <div id=\"df-b2dc9ae0-4bfa-48cc-bc7d-cbadd3916980\">\n",
              "    <div class=\"colab-df-container\">\n",
              "      <div>\n",
              "<style scoped>\n",
              "    .dataframe tbody tr th:only-of-type {\n",
              "        vertical-align: middle;\n",
              "    }\n",
              "\n",
              "    .dataframe tbody tr th {\n",
              "        vertical-align: top;\n",
              "    }\n",
              "\n",
              "    .dataframe thead th {\n",
              "        text-align: right;\n",
              "    }\n",
              "</style>\n",
              "<table border=\"1\" class=\"dataframe\">\n",
              "  <thead>\n",
              "    <tr style=\"text-align: right;\">\n",
              "      <th></th>\n",
              "      <th>voto</th>\n",
              "      <th>quantidade</th>\n",
              "    </tr>\n",
              "  </thead>\n",
              "  <tbody>\n",
              "    <tr>\n",
              "      <th>269</th>\n",
              "      <td>22</td>\n",
              "      <td>1</td>\n",
              "    </tr>\n",
              "    <tr>\n",
              "      <th>270</th>\n",
              "      <td>22</td>\n",
              "      <td>1</td>\n",
              "    </tr>\n",
              "    <tr>\n",
              "      <th>271</th>\n",
              "      <td>22</td>\n",
              "      <td>1</td>\n",
              "    </tr>\n",
              "    <tr>\n",
              "      <th>272</th>\n",
              "      <td>branco</td>\n",
              "      <td>1</td>\n",
              "    </tr>\n",
              "    <tr>\n",
              "      <th>273</th>\n",
              "      <td>branco</td>\n",
              "      <td>1</td>\n",
              "    </tr>\n",
              "    <tr>\n",
              "      <th>274</th>\n",
              "      <td>branco</td>\n",
              "      <td>1</td>\n",
              "    </tr>\n",
              "    <tr>\n",
              "      <th>275</th>\n",
              "      <td>branco</td>\n",
              "      <td>1</td>\n",
              "    </tr>\n",
              "    <tr>\n",
              "      <th>276</th>\n",
              "      <td>branco</td>\n",
              "      <td>1</td>\n",
              "    </tr>\n",
              "    <tr>\n",
              "      <th>277</th>\n",
              "      <td>branco</td>\n",
              "      <td>1</td>\n",
              "    </tr>\n",
              "    <tr>\n",
              "      <th>278</th>\n",
              "      <td>nulo</td>\n",
              "      <td>1</td>\n",
              "    </tr>\n",
              "    <tr>\n",
              "      <th>279</th>\n",
              "      <td>nulo</td>\n",
              "      <td>1</td>\n",
              "    </tr>\n",
              "    <tr>\n",
              "      <th>280</th>\n",
              "      <td>nulo</td>\n",
              "      <td>1</td>\n",
              "    </tr>\n",
              "    <tr>\n",
              "      <th>281</th>\n",
              "      <td>nulo</td>\n",
              "      <td>1</td>\n",
              "    </tr>\n",
              "    <tr>\n",
              "      <th>282</th>\n",
              "      <td>nulo</td>\n",
              "      <td>1</td>\n",
              "    </tr>\n",
              "    <tr>\n",
              "      <th>283</th>\n",
              "      <td>nulo</td>\n",
              "      <td>1</td>\n",
              "    </tr>\n",
              "  </tbody>\n",
              "</table>\n",
              "</div>\n",
              "      <button class=\"colab-df-convert\" onclick=\"convertToInteractive('df-b2dc9ae0-4bfa-48cc-bc7d-cbadd3916980')\"\n",
              "              title=\"Convert this dataframe to an interactive table.\"\n",
              "              style=\"display:none;\">\n",
              "        \n",
              "  <svg xmlns=\"http://www.w3.org/2000/svg\" height=\"24px\"viewBox=\"0 0 24 24\"\n",
              "       width=\"24px\">\n",
              "    <path d=\"M0 0h24v24H0V0z\" fill=\"none\"/>\n",
              "    <path d=\"M18.56 5.44l.94 2.06.94-2.06 2.06-.94-2.06-.94-.94-2.06-.94 2.06-2.06.94zm-11 1L8.5 8.5l.94-2.06 2.06-.94-2.06-.94L8.5 2.5l-.94 2.06-2.06.94zm10 10l.94 2.06.94-2.06 2.06-.94-2.06-.94-.94-2.06-.94 2.06-2.06.94z\"/><path d=\"M17.41 7.96l-1.37-1.37c-.4-.4-.92-.59-1.43-.59-.52 0-1.04.2-1.43.59L10.3 9.45l-7.72 7.72c-.78.78-.78 2.05 0 2.83L4 21.41c.39.39.9.59 1.41.59.51 0 1.02-.2 1.41-.59l7.78-7.78 2.81-2.81c.8-.78.8-2.07 0-2.86zM5.41 20L4 18.59l7.72-7.72 1.47 1.35L5.41 20z\"/>\n",
              "  </svg>\n",
              "      </button>\n",
              "      \n",
              "  <style>\n",
              "    .colab-df-container {\n",
              "      display:flex;\n",
              "      flex-wrap:wrap;\n",
              "      gap: 12px;\n",
              "    }\n",
              "\n",
              "    .colab-df-convert {\n",
              "      background-color: #E8F0FE;\n",
              "      border: none;\n",
              "      border-radius: 50%;\n",
              "      cursor: pointer;\n",
              "      display: none;\n",
              "      fill: #1967D2;\n",
              "      height: 32px;\n",
              "      padding: 0 0 0 0;\n",
              "      width: 32px;\n",
              "    }\n",
              "\n",
              "    .colab-df-convert:hover {\n",
              "      background-color: #E2EBFA;\n",
              "      box-shadow: 0px 1px 2px rgba(60, 64, 67, 0.3), 0px 1px 3px 1px rgba(60, 64, 67, 0.15);\n",
              "      fill: #174EA6;\n",
              "    }\n",
              "\n",
              "    [theme=dark] .colab-df-convert {\n",
              "      background-color: #3B4455;\n",
              "      fill: #D2E3FC;\n",
              "    }\n",
              "\n",
              "    [theme=dark] .colab-df-convert:hover {\n",
              "      background-color: #434B5C;\n",
              "      box-shadow: 0px 1px 3px 1px rgba(0, 0, 0, 0.15);\n",
              "      filter: drop-shadow(0px 1px 2px rgba(0, 0, 0, 0.3));\n",
              "      fill: #FFFFFF;\n",
              "    }\n",
              "  </style>\n",
              "\n",
              "      <script>\n",
              "        const buttonEl =\n",
              "          document.querySelector('#df-b2dc9ae0-4bfa-48cc-bc7d-cbadd3916980 button.colab-df-convert');\n",
              "        buttonEl.style.display =\n",
              "          google.colab.kernel.accessAllowed ? 'block' : 'none';\n",
              "\n",
              "        async function convertToInteractive(key) {\n",
              "          const element = document.querySelector('#df-b2dc9ae0-4bfa-48cc-bc7d-cbadd3916980');\n",
              "          const dataTable =\n",
              "            await google.colab.kernel.invokeFunction('convertToInteractive',\n",
              "                                                     [key], {});\n",
              "          if (!dataTable) return;\n",
              "\n",
              "          const docLinkHtml = 'Like what you see? Visit the ' +\n",
              "            '<a target=\"_blank\" href=https://colab.research.google.com/notebooks/data_table.ipynb>data table notebook</a>'\n",
              "            + ' to learn more about interactive tables.';\n",
              "          element.innerHTML = '';\n",
              "          dataTable['output_type'] = 'display_data';\n",
              "          await google.colab.output.renderOutput(dataTable, element);\n",
              "          const docLink = document.createElement('div');\n",
              "          docLink.innerHTML = docLinkHtml;\n",
              "          element.appendChild(docLink);\n",
              "        }\n",
              "      </script>\n",
              "    </div>\n",
              "  </div>\n",
              "  "
            ]
          },
          "metadata": {},
          "execution_count": 61
        }
      ]
    },
    {
      "cell_type": "code",
      "source": [
        "votes_table.shape"
      ],
      "metadata": {
        "id": "7Swsri4Nj3F2",
        "colab": {
          "base_uri": "https://localhost:8080/"
        },
        "outputId": "60108e07-64a2-4c2c-c9d3-965ac50bafe0"
      },
      "execution_count": 62,
      "outputs": [
        {
          "output_type": "execute_result",
          "data": {
            "text/plain": [
              "(284, 2)"
            ]
          },
          "metadata": {},
          "execution_count": 62
        }
      ]
    },
    {
      "cell_type": "code",
      "source": [
        "votes_table.to_csv(\"rdv.csv\", header=True, index=False)"
      ],
      "metadata": {
        "id": "2qCTPCUBtdH1"
      },
      "execution_count": 63,
      "outputs": []
    },
    {
      "cell_type": "markdown",
      "source": [
        "### **3.3. Agregação**"
      ],
      "metadata": {
        "id": "6poQ6YN7riqu"
      }
    },
    {
      "cell_type": "markdown",
      "source": [
        "Nesta etapa vamos agregagar os votos com uma operação matemática de soma."
      ],
      "metadata": {
        "id": "ARISjCaFkQZX"
      }
    },
    {
      "cell_type": "code",
      "source": [
        "votes_table_agg = votes_table.groupby('voto').agg('sum').reset_index()"
      ],
      "metadata": {
        "id": "gkEJzWmdj72o"
      },
      "execution_count": 64,
      "outputs": []
    },
    {
      "cell_type": "code",
      "source": [
        "votes_table_agg"
      ],
      "metadata": {
        "id": "dzeCL1gtkK2H",
        "colab": {
          "base_uri": "https://localhost:8080/",
          "height": 175
        },
        "outputId": "658b8f96-7307-4907-f798-befc098e8784"
      },
      "execution_count": 65,
      "outputs": [
        {
          "output_type": "execute_result",
          "data": {
            "text/plain": [
              "     voto  quantidade\n",
              "0      13         112\n",
              "1      22         160\n",
              "2  branco           6\n",
              "3    nulo           6"
            ],
            "text/html": [
              "\n",
              "  <div id=\"df-9784b988-06ef-4b26-a438-7f3d7f0cfac9\">\n",
              "    <div class=\"colab-df-container\">\n",
              "      <div>\n",
              "<style scoped>\n",
              "    .dataframe tbody tr th:only-of-type {\n",
              "        vertical-align: middle;\n",
              "    }\n",
              "\n",
              "    .dataframe tbody tr th {\n",
              "        vertical-align: top;\n",
              "    }\n",
              "\n",
              "    .dataframe thead th {\n",
              "        text-align: right;\n",
              "    }\n",
              "</style>\n",
              "<table border=\"1\" class=\"dataframe\">\n",
              "  <thead>\n",
              "    <tr style=\"text-align: right;\">\n",
              "      <th></th>\n",
              "      <th>voto</th>\n",
              "      <th>quantidade</th>\n",
              "    </tr>\n",
              "  </thead>\n",
              "  <tbody>\n",
              "    <tr>\n",
              "      <th>0</th>\n",
              "      <td>13</td>\n",
              "      <td>112</td>\n",
              "    </tr>\n",
              "    <tr>\n",
              "      <th>1</th>\n",
              "      <td>22</td>\n",
              "      <td>160</td>\n",
              "    </tr>\n",
              "    <tr>\n",
              "      <th>2</th>\n",
              "      <td>branco</td>\n",
              "      <td>6</td>\n",
              "    </tr>\n",
              "    <tr>\n",
              "      <th>3</th>\n",
              "      <td>nulo</td>\n",
              "      <td>6</td>\n",
              "    </tr>\n",
              "  </tbody>\n",
              "</table>\n",
              "</div>\n",
              "      <button class=\"colab-df-convert\" onclick=\"convertToInteractive('df-9784b988-06ef-4b26-a438-7f3d7f0cfac9')\"\n",
              "              title=\"Convert this dataframe to an interactive table.\"\n",
              "              style=\"display:none;\">\n",
              "        \n",
              "  <svg xmlns=\"http://www.w3.org/2000/svg\" height=\"24px\"viewBox=\"0 0 24 24\"\n",
              "       width=\"24px\">\n",
              "    <path d=\"M0 0h24v24H0V0z\" fill=\"none\"/>\n",
              "    <path d=\"M18.56 5.44l.94 2.06.94-2.06 2.06-.94-2.06-.94-.94-2.06-.94 2.06-2.06.94zm-11 1L8.5 8.5l.94-2.06 2.06-.94-2.06-.94L8.5 2.5l-.94 2.06-2.06.94zm10 10l.94 2.06.94-2.06 2.06-.94-2.06-.94-.94-2.06-.94 2.06-2.06.94z\"/><path d=\"M17.41 7.96l-1.37-1.37c-.4-.4-.92-.59-1.43-.59-.52 0-1.04.2-1.43.59L10.3 9.45l-7.72 7.72c-.78.78-.78 2.05 0 2.83L4 21.41c.39.39.9.59 1.41.59.51 0 1.02-.2 1.41-.59l7.78-7.78 2.81-2.81c.8-.78.8-2.07 0-2.86zM5.41 20L4 18.59l7.72-7.72 1.47 1.35L5.41 20z\"/>\n",
              "  </svg>\n",
              "      </button>\n",
              "      \n",
              "  <style>\n",
              "    .colab-df-container {\n",
              "      display:flex;\n",
              "      flex-wrap:wrap;\n",
              "      gap: 12px;\n",
              "    }\n",
              "\n",
              "    .colab-df-convert {\n",
              "      background-color: #E8F0FE;\n",
              "      border: none;\n",
              "      border-radius: 50%;\n",
              "      cursor: pointer;\n",
              "      display: none;\n",
              "      fill: #1967D2;\n",
              "      height: 32px;\n",
              "      padding: 0 0 0 0;\n",
              "      width: 32px;\n",
              "    }\n",
              "\n",
              "    .colab-df-convert:hover {\n",
              "      background-color: #E2EBFA;\n",
              "      box-shadow: 0px 1px 2px rgba(60, 64, 67, 0.3), 0px 1px 3px 1px rgba(60, 64, 67, 0.15);\n",
              "      fill: #174EA6;\n",
              "    }\n",
              "\n",
              "    [theme=dark] .colab-df-convert {\n",
              "      background-color: #3B4455;\n",
              "      fill: #D2E3FC;\n",
              "    }\n",
              "\n",
              "    [theme=dark] .colab-df-convert:hover {\n",
              "      background-color: #434B5C;\n",
              "      box-shadow: 0px 1px 3px 1px rgba(0, 0, 0, 0.15);\n",
              "      filter: drop-shadow(0px 1px 2px rgba(0, 0, 0, 0.3));\n",
              "      fill: #FFFFFF;\n",
              "    }\n",
              "  </style>\n",
              "\n",
              "      <script>\n",
              "        const buttonEl =\n",
              "          document.querySelector('#df-9784b988-06ef-4b26-a438-7f3d7f0cfac9 button.colab-df-convert');\n",
              "        buttonEl.style.display =\n",
              "          google.colab.kernel.accessAllowed ? 'block' : 'none';\n",
              "\n",
              "        async function convertToInteractive(key) {\n",
              "          const element = document.querySelector('#df-9784b988-06ef-4b26-a438-7f3d7f0cfac9');\n",
              "          const dataTable =\n",
              "            await google.colab.kernel.invokeFunction('convertToInteractive',\n",
              "                                                     [key], {});\n",
              "          if (!dataTable) return;\n",
              "\n",
              "          const docLinkHtml = 'Like what you see? Visit the ' +\n",
              "            '<a target=\"_blank\" href=https://colab.research.google.com/notebooks/data_table.ipynb>data table notebook</a>'\n",
              "            + ' to learn more about interactive tables.';\n",
              "          element.innerHTML = '';\n",
              "          dataTable['output_type'] = 'display_data';\n",
              "          await google.colab.output.renderOutput(dataTable, element);\n",
              "          const docLink = document.createElement('div');\n",
              "          docLink.innerHTML = docLinkHtml;\n",
              "          element.appendChild(docLink);\n",
              "        }\n",
              "      </script>\n",
              "    </div>\n",
              "  </div>\n",
              "  "
            ]
          },
          "metadata": {},
          "execution_count": 65
        }
      ]
    },
    {
      "cell_type": "markdown",
      "source": [
        "Nesta etapa vamos ordenar os dados agregados de forma decrescente, ou seja, da maior quantidade de votos para a menor."
      ],
      "metadata": {
        "id": "KCWacJbzkSc_"
      }
    },
    {
      "cell_type": "code",
      "source": [
        "votes_table_agg = votes_table_agg.sort_values(by='quantidade', ascending=False)"
      ],
      "metadata": {
        "id": "J9t3nD4ukTQC"
      },
      "execution_count": 66,
      "outputs": []
    },
    {
      "cell_type": "code",
      "source": [
        "votes_table_agg"
      ],
      "metadata": {
        "id": "mC7IT5eckdDI",
        "colab": {
          "base_uri": "https://localhost:8080/",
          "height": 175
        },
        "outputId": "3edb3938-3f75-484e-9aed-e1b294ebec33"
      },
      "execution_count": 67,
      "outputs": [
        {
          "output_type": "execute_result",
          "data": {
            "text/plain": [
              "     voto  quantidade\n",
              "1      22         160\n",
              "0      13         112\n",
              "2  branco           6\n",
              "3    nulo           6"
            ],
            "text/html": [
              "\n",
              "  <div id=\"df-cd7e1eaa-8254-45bb-b2d4-96edc17c7874\">\n",
              "    <div class=\"colab-df-container\">\n",
              "      <div>\n",
              "<style scoped>\n",
              "    .dataframe tbody tr th:only-of-type {\n",
              "        vertical-align: middle;\n",
              "    }\n",
              "\n",
              "    .dataframe tbody tr th {\n",
              "        vertical-align: top;\n",
              "    }\n",
              "\n",
              "    .dataframe thead th {\n",
              "        text-align: right;\n",
              "    }\n",
              "</style>\n",
              "<table border=\"1\" class=\"dataframe\">\n",
              "  <thead>\n",
              "    <tr style=\"text-align: right;\">\n",
              "      <th></th>\n",
              "      <th>voto</th>\n",
              "      <th>quantidade</th>\n",
              "    </tr>\n",
              "  </thead>\n",
              "  <tbody>\n",
              "    <tr>\n",
              "      <th>1</th>\n",
              "      <td>22</td>\n",
              "      <td>160</td>\n",
              "    </tr>\n",
              "    <tr>\n",
              "      <th>0</th>\n",
              "      <td>13</td>\n",
              "      <td>112</td>\n",
              "    </tr>\n",
              "    <tr>\n",
              "      <th>2</th>\n",
              "      <td>branco</td>\n",
              "      <td>6</td>\n",
              "    </tr>\n",
              "    <tr>\n",
              "      <th>3</th>\n",
              "      <td>nulo</td>\n",
              "      <td>6</td>\n",
              "    </tr>\n",
              "  </tbody>\n",
              "</table>\n",
              "</div>\n",
              "      <button class=\"colab-df-convert\" onclick=\"convertToInteractive('df-cd7e1eaa-8254-45bb-b2d4-96edc17c7874')\"\n",
              "              title=\"Convert this dataframe to an interactive table.\"\n",
              "              style=\"display:none;\">\n",
              "        \n",
              "  <svg xmlns=\"http://www.w3.org/2000/svg\" height=\"24px\"viewBox=\"0 0 24 24\"\n",
              "       width=\"24px\">\n",
              "    <path d=\"M0 0h24v24H0V0z\" fill=\"none\"/>\n",
              "    <path d=\"M18.56 5.44l.94 2.06.94-2.06 2.06-.94-2.06-.94-.94-2.06-.94 2.06-2.06.94zm-11 1L8.5 8.5l.94-2.06 2.06-.94-2.06-.94L8.5 2.5l-.94 2.06-2.06.94zm10 10l.94 2.06.94-2.06 2.06-.94-2.06-.94-.94-2.06-.94 2.06-2.06.94z\"/><path d=\"M17.41 7.96l-1.37-1.37c-.4-.4-.92-.59-1.43-.59-.52 0-1.04.2-1.43.59L10.3 9.45l-7.72 7.72c-.78.78-.78 2.05 0 2.83L4 21.41c.39.39.9.59 1.41.59.51 0 1.02-.2 1.41-.59l7.78-7.78 2.81-2.81c.8-.78.8-2.07 0-2.86zM5.41 20L4 18.59l7.72-7.72 1.47 1.35L5.41 20z\"/>\n",
              "  </svg>\n",
              "      </button>\n",
              "      \n",
              "  <style>\n",
              "    .colab-df-container {\n",
              "      display:flex;\n",
              "      flex-wrap:wrap;\n",
              "      gap: 12px;\n",
              "    }\n",
              "\n",
              "    .colab-df-convert {\n",
              "      background-color: #E8F0FE;\n",
              "      border: none;\n",
              "      border-radius: 50%;\n",
              "      cursor: pointer;\n",
              "      display: none;\n",
              "      fill: #1967D2;\n",
              "      height: 32px;\n",
              "      padding: 0 0 0 0;\n",
              "      width: 32px;\n",
              "    }\n",
              "\n",
              "    .colab-df-convert:hover {\n",
              "      background-color: #E2EBFA;\n",
              "      box-shadow: 0px 1px 2px rgba(60, 64, 67, 0.3), 0px 1px 3px 1px rgba(60, 64, 67, 0.15);\n",
              "      fill: #174EA6;\n",
              "    }\n",
              "\n",
              "    [theme=dark] .colab-df-convert {\n",
              "      background-color: #3B4455;\n",
              "      fill: #D2E3FC;\n",
              "    }\n",
              "\n",
              "    [theme=dark] .colab-df-convert:hover {\n",
              "      background-color: #434B5C;\n",
              "      box-shadow: 0px 1px 3px 1px rgba(0, 0, 0, 0.15);\n",
              "      filter: drop-shadow(0px 1px 2px rgba(0, 0, 0, 0.3));\n",
              "      fill: #FFFFFF;\n",
              "    }\n",
              "  </style>\n",
              "\n",
              "      <script>\n",
              "        const buttonEl =\n",
              "          document.querySelector('#df-cd7e1eaa-8254-45bb-b2d4-96edc17c7874 button.colab-df-convert');\n",
              "        buttonEl.style.display =\n",
              "          google.colab.kernel.accessAllowed ? 'block' : 'none';\n",
              "\n",
              "        async function convertToInteractive(key) {\n",
              "          const element = document.querySelector('#df-cd7e1eaa-8254-45bb-b2d4-96edc17c7874');\n",
              "          const dataTable =\n",
              "            await google.colab.kernel.invokeFunction('convertToInteractive',\n",
              "                                                     [key], {});\n",
              "          if (!dataTable) return;\n",
              "\n",
              "          const docLinkHtml = 'Like what you see? Visit the ' +\n",
              "            '<a target=\"_blank\" href=https://colab.research.google.com/notebooks/data_table.ipynb>data table notebook</a>'\n",
              "            + ' to learn more about interactive tables.';\n",
              "          element.innerHTML = '';\n",
              "          dataTable['output_type'] = 'display_data';\n",
              "          await google.colab.output.renderOutput(dataTable, element);\n",
              "          const docLink = document.createElement('div');\n",
              "          docLink.innerHTML = docLinkHtml;\n",
              "          element.appendChild(docLink);\n",
              "        }\n",
              "      </script>\n",
              "    </div>\n",
              "  </div>\n",
              "  "
            ]
          },
          "metadata": {},
          "execution_count": 67
        }
      ]
    },
    {
      "cell_type": "markdown",
      "source": [
        "Nesta etapa vamos adicionar uma coluna com os valores relativos percentuais da agregação dos dados."
      ],
      "metadata": {
        "id": "MZ6CzHPTkg7X"
      }
    },
    {
      "cell_type": "code",
      "source": [
        "votes_table_agg['%'] = round(100 * (votes_table_agg['quantidade'] / votes_table_agg['quantidade'].sum()), 2)"
      ],
      "metadata": {
        "id": "MgSv8oWKkiH2"
      },
      "execution_count": 68,
      "outputs": []
    },
    {
      "cell_type": "code",
      "source": [
        "votes_table_agg"
      ],
      "metadata": {
        "id": "lRxc6x1mlIGf",
        "colab": {
          "base_uri": "https://localhost:8080/",
          "height": 175
        },
        "outputId": "494c7d4d-c931-4301-a89a-3428e22efd9a"
      },
      "execution_count": 69,
      "outputs": [
        {
          "output_type": "execute_result",
          "data": {
            "text/plain": [
              "     voto  quantidade      %\n",
              "1      22         160  56.34\n",
              "0      13         112  39.44\n",
              "2  branco           6   2.11\n",
              "3    nulo           6   2.11"
            ],
            "text/html": [
              "\n",
              "  <div id=\"df-8686ee7a-3df3-47c6-992b-2b2a6c828327\">\n",
              "    <div class=\"colab-df-container\">\n",
              "      <div>\n",
              "<style scoped>\n",
              "    .dataframe tbody tr th:only-of-type {\n",
              "        vertical-align: middle;\n",
              "    }\n",
              "\n",
              "    .dataframe tbody tr th {\n",
              "        vertical-align: top;\n",
              "    }\n",
              "\n",
              "    .dataframe thead th {\n",
              "        text-align: right;\n",
              "    }\n",
              "</style>\n",
              "<table border=\"1\" class=\"dataframe\">\n",
              "  <thead>\n",
              "    <tr style=\"text-align: right;\">\n",
              "      <th></th>\n",
              "      <th>voto</th>\n",
              "      <th>quantidade</th>\n",
              "      <th>%</th>\n",
              "    </tr>\n",
              "  </thead>\n",
              "  <tbody>\n",
              "    <tr>\n",
              "      <th>1</th>\n",
              "      <td>22</td>\n",
              "      <td>160</td>\n",
              "      <td>56.34</td>\n",
              "    </tr>\n",
              "    <tr>\n",
              "      <th>0</th>\n",
              "      <td>13</td>\n",
              "      <td>112</td>\n",
              "      <td>39.44</td>\n",
              "    </tr>\n",
              "    <tr>\n",
              "      <th>2</th>\n",
              "      <td>branco</td>\n",
              "      <td>6</td>\n",
              "      <td>2.11</td>\n",
              "    </tr>\n",
              "    <tr>\n",
              "      <th>3</th>\n",
              "      <td>nulo</td>\n",
              "      <td>6</td>\n",
              "      <td>2.11</td>\n",
              "    </tr>\n",
              "  </tbody>\n",
              "</table>\n",
              "</div>\n",
              "      <button class=\"colab-df-convert\" onclick=\"convertToInteractive('df-8686ee7a-3df3-47c6-992b-2b2a6c828327')\"\n",
              "              title=\"Convert this dataframe to an interactive table.\"\n",
              "              style=\"display:none;\">\n",
              "        \n",
              "  <svg xmlns=\"http://www.w3.org/2000/svg\" height=\"24px\"viewBox=\"0 0 24 24\"\n",
              "       width=\"24px\">\n",
              "    <path d=\"M0 0h24v24H0V0z\" fill=\"none\"/>\n",
              "    <path d=\"M18.56 5.44l.94 2.06.94-2.06 2.06-.94-2.06-.94-.94-2.06-.94 2.06-2.06.94zm-11 1L8.5 8.5l.94-2.06 2.06-.94-2.06-.94L8.5 2.5l-.94 2.06-2.06.94zm10 10l.94 2.06.94-2.06 2.06-.94-2.06-.94-.94-2.06-.94 2.06-2.06.94z\"/><path d=\"M17.41 7.96l-1.37-1.37c-.4-.4-.92-.59-1.43-.59-.52 0-1.04.2-1.43.59L10.3 9.45l-7.72 7.72c-.78.78-.78 2.05 0 2.83L4 21.41c.39.39.9.59 1.41.59.51 0 1.02-.2 1.41-.59l7.78-7.78 2.81-2.81c.8-.78.8-2.07 0-2.86zM5.41 20L4 18.59l7.72-7.72 1.47 1.35L5.41 20z\"/>\n",
              "  </svg>\n",
              "      </button>\n",
              "      \n",
              "  <style>\n",
              "    .colab-df-container {\n",
              "      display:flex;\n",
              "      flex-wrap:wrap;\n",
              "      gap: 12px;\n",
              "    }\n",
              "\n",
              "    .colab-df-convert {\n",
              "      background-color: #E8F0FE;\n",
              "      border: none;\n",
              "      border-radius: 50%;\n",
              "      cursor: pointer;\n",
              "      display: none;\n",
              "      fill: #1967D2;\n",
              "      height: 32px;\n",
              "      padding: 0 0 0 0;\n",
              "      width: 32px;\n",
              "    }\n",
              "\n",
              "    .colab-df-convert:hover {\n",
              "      background-color: #E2EBFA;\n",
              "      box-shadow: 0px 1px 2px rgba(60, 64, 67, 0.3), 0px 1px 3px 1px rgba(60, 64, 67, 0.15);\n",
              "      fill: #174EA6;\n",
              "    }\n",
              "\n",
              "    [theme=dark] .colab-df-convert {\n",
              "      background-color: #3B4455;\n",
              "      fill: #D2E3FC;\n",
              "    }\n",
              "\n",
              "    [theme=dark] .colab-df-convert:hover {\n",
              "      background-color: #434B5C;\n",
              "      box-shadow: 0px 1px 3px 1px rgba(0, 0, 0, 0.15);\n",
              "      filter: drop-shadow(0px 1px 2px rgba(0, 0, 0, 0.3));\n",
              "      fill: #FFFFFF;\n",
              "    }\n",
              "  </style>\n",
              "\n",
              "      <script>\n",
              "        const buttonEl =\n",
              "          document.querySelector('#df-8686ee7a-3df3-47c6-992b-2b2a6c828327 button.colab-df-convert');\n",
              "        buttonEl.style.display =\n",
              "          google.colab.kernel.accessAllowed ? 'block' : 'none';\n",
              "\n",
              "        async function convertToInteractive(key) {\n",
              "          const element = document.querySelector('#df-8686ee7a-3df3-47c6-992b-2b2a6c828327');\n",
              "          const dataTable =\n",
              "            await google.colab.kernel.invokeFunction('convertToInteractive',\n",
              "                                                     [key], {});\n",
              "          if (!dataTable) return;\n",
              "\n",
              "          const docLinkHtml = 'Like what you see? Visit the ' +\n",
              "            '<a target=\"_blank\" href=https://colab.research.google.com/notebooks/data_table.ipynb>data table notebook</a>'\n",
              "            + ' to learn more about interactive tables.';\n",
              "          element.innerHTML = '';\n",
              "          dataTable['output_type'] = 'display_data';\n",
              "          await google.colab.output.renderOutput(dataTable, element);\n",
              "          const docLink = document.createElement('div');\n",
              "          docLink.innerHTML = docLinkHtml;\n",
              "          element.appendChild(docLink);\n",
              "        }\n",
              "      </script>\n",
              "    </div>\n",
              "  </div>\n",
              "  "
            ]
          },
          "metadata": {},
          "execution_count": 69
        }
      ]
    },
    {
      "cell_type": "markdown",
      "source": [
        "## 4\\. Visualização"
      ],
      "metadata": {
        "id": "Yn0ButilmZOV"
      }
    },
    {
      "cell_type": "markdown",
      "source": [
        "Nesta etapa vamos visualizar os dados agregados."
      ],
      "metadata": {
        "id": "8ZmzZGzzlLJy"
      }
    },
    {
      "cell_type": "code",
      "source": [
        "votes_table_agg"
      ],
      "metadata": {
        "id": "upkG1XXUn9aw",
        "colab": {
          "base_uri": "https://localhost:8080/",
          "height": 175
        },
        "outputId": "3217abf8-1fd7-4837-b77f-003a2da05b68"
      },
      "execution_count": 56,
      "outputs": [
        {
          "output_type": "execute_result",
          "data": {
            "text/plain": [
              "     voto  quantidade      %\n",
              "1      22         160  56.34\n",
              "0      13         112  39.44\n",
              "2  branco           6   2.11\n",
              "3    nulo           6   2.11"
            ],
            "text/html": [
              "\n",
              "  <div id=\"df-2fcf99cb-dc79-4342-bc61-b76302441d4d\">\n",
              "    <div class=\"colab-df-container\">\n",
              "      <div>\n",
              "<style scoped>\n",
              "    .dataframe tbody tr th:only-of-type {\n",
              "        vertical-align: middle;\n",
              "    }\n",
              "\n",
              "    .dataframe tbody tr th {\n",
              "        vertical-align: top;\n",
              "    }\n",
              "\n",
              "    .dataframe thead th {\n",
              "        text-align: right;\n",
              "    }\n",
              "</style>\n",
              "<table border=\"1\" class=\"dataframe\">\n",
              "  <thead>\n",
              "    <tr style=\"text-align: right;\">\n",
              "      <th></th>\n",
              "      <th>voto</th>\n",
              "      <th>quantidade</th>\n",
              "      <th>%</th>\n",
              "    </tr>\n",
              "  </thead>\n",
              "  <tbody>\n",
              "    <tr>\n",
              "      <th>1</th>\n",
              "      <td>22</td>\n",
              "      <td>160</td>\n",
              "      <td>56.34</td>\n",
              "    </tr>\n",
              "    <tr>\n",
              "      <th>0</th>\n",
              "      <td>13</td>\n",
              "      <td>112</td>\n",
              "      <td>39.44</td>\n",
              "    </tr>\n",
              "    <tr>\n",
              "      <th>2</th>\n",
              "      <td>branco</td>\n",
              "      <td>6</td>\n",
              "      <td>2.11</td>\n",
              "    </tr>\n",
              "    <tr>\n",
              "      <th>3</th>\n",
              "      <td>nulo</td>\n",
              "      <td>6</td>\n",
              "      <td>2.11</td>\n",
              "    </tr>\n",
              "  </tbody>\n",
              "</table>\n",
              "</div>\n",
              "      <button class=\"colab-df-convert\" onclick=\"convertToInteractive('df-2fcf99cb-dc79-4342-bc61-b76302441d4d')\"\n",
              "              title=\"Convert this dataframe to an interactive table.\"\n",
              "              style=\"display:none;\">\n",
              "        \n",
              "  <svg xmlns=\"http://www.w3.org/2000/svg\" height=\"24px\"viewBox=\"0 0 24 24\"\n",
              "       width=\"24px\">\n",
              "    <path d=\"M0 0h24v24H0V0z\" fill=\"none\"/>\n",
              "    <path d=\"M18.56 5.44l.94 2.06.94-2.06 2.06-.94-2.06-.94-.94-2.06-.94 2.06-2.06.94zm-11 1L8.5 8.5l.94-2.06 2.06-.94-2.06-.94L8.5 2.5l-.94 2.06-2.06.94zm10 10l.94 2.06.94-2.06 2.06-.94-2.06-.94-.94-2.06-.94 2.06-2.06.94z\"/><path d=\"M17.41 7.96l-1.37-1.37c-.4-.4-.92-.59-1.43-.59-.52 0-1.04.2-1.43.59L10.3 9.45l-7.72 7.72c-.78.78-.78 2.05 0 2.83L4 21.41c.39.39.9.59 1.41.59.51 0 1.02-.2 1.41-.59l7.78-7.78 2.81-2.81c.8-.78.8-2.07 0-2.86zM5.41 20L4 18.59l7.72-7.72 1.47 1.35L5.41 20z\"/>\n",
              "  </svg>\n",
              "      </button>\n",
              "      \n",
              "  <style>\n",
              "    .colab-df-container {\n",
              "      display:flex;\n",
              "      flex-wrap:wrap;\n",
              "      gap: 12px;\n",
              "    }\n",
              "\n",
              "    .colab-df-convert {\n",
              "      background-color: #E8F0FE;\n",
              "      border: none;\n",
              "      border-radius: 50%;\n",
              "      cursor: pointer;\n",
              "      display: none;\n",
              "      fill: #1967D2;\n",
              "      height: 32px;\n",
              "      padding: 0 0 0 0;\n",
              "      width: 32px;\n",
              "    }\n",
              "\n",
              "    .colab-df-convert:hover {\n",
              "      background-color: #E2EBFA;\n",
              "      box-shadow: 0px 1px 2px rgba(60, 64, 67, 0.3), 0px 1px 3px 1px rgba(60, 64, 67, 0.15);\n",
              "      fill: #174EA6;\n",
              "    }\n",
              "\n",
              "    [theme=dark] .colab-df-convert {\n",
              "      background-color: #3B4455;\n",
              "      fill: #D2E3FC;\n",
              "    }\n",
              "\n",
              "    [theme=dark] .colab-df-convert:hover {\n",
              "      background-color: #434B5C;\n",
              "      box-shadow: 0px 1px 3px 1px rgba(0, 0, 0, 0.15);\n",
              "      filter: drop-shadow(0px 1px 2px rgba(0, 0, 0, 0.3));\n",
              "      fill: #FFFFFF;\n",
              "    }\n",
              "  </style>\n",
              "\n",
              "      <script>\n",
              "        const buttonEl =\n",
              "          document.querySelector('#df-2fcf99cb-dc79-4342-bc61-b76302441d4d button.colab-df-convert');\n",
              "        buttonEl.style.display =\n",
              "          google.colab.kernel.accessAllowed ? 'block' : 'none';\n",
              "\n",
              "        async function convertToInteractive(key) {\n",
              "          const element = document.querySelector('#df-2fcf99cb-dc79-4342-bc61-b76302441d4d');\n",
              "          const dataTable =\n",
              "            await google.colab.kernel.invokeFunction('convertToInteractive',\n",
              "                                                     [key], {});\n",
              "          if (!dataTable) return;\n",
              "\n",
              "          const docLinkHtml = 'Like what you see? Visit the ' +\n",
              "            '<a target=\"_blank\" href=https://colab.research.google.com/notebooks/data_table.ipynb>data table notebook</a>'\n",
              "            + ' to learn more about interactive tables.';\n",
              "          element.innerHTML = '';\n",
              "          dataTable['output_type'] = 'display_data';\n",
              "          await google.colab.output.renderOutput(dataTable, element);\n",
              "          const docLink = document.createElement('div');\n",
              "          docLink.innerHTML = docLinkHtml;\n",
              "          element.appendChild(docLink);\n",
              "        }\n",
              "      </script>\n",
              "    </div>\n",
              "  </div>\n",
              "  "
            ]
          },
          "metadata": {},
          "execution_count": 56
        }
      ]
    },
    {
      "cell_type": "markdown",
      "source": [
        "### **4.1. Seaborn**"
      ],
      "metadata": {
        "id": "jomWZQ4wnYh7"
      }
    },
    {
      "cell_type": "markdown",
      "source": [
        "Vamos utilizar o `Seaborn`, um dos pacotes **Python** mais utilizado para visualização de dados."
      ],
      "metadata": {
        "id": "cggXsefznzxn"
      }
    },
    {
      "cell_type": "code",
      "source": [
        "import matplotlib.pyplot as plt\n",
        "import seaborn as sns"
      ],
      "metadata": {
        "id": "pKTiZEq-lL-q"
      },
      "execution_count": 88,
      "outputs": []
    },
    {
      "cell_type": "code",
      "source": [
        "URNA = \"Zona 0031 - Seção 0001\""
      ],
      "metadata": {
        "id": "PTMFZ1jjmkew"
      },
      "execution_count": 89,
      "outputs": []
    },
    {
      "cell_type": "markdown",
      "source": [
        "Nesta primeira visualização, vamos observar a **quantidade de votos absolutos**."
      ],
      "metadata": {
        "id": "qCcZEvdIp3qX"
      }
    },
    {
      "cell_type": "code",
      "source": [
        "x_column = 'voto'\n",
        "y_column = 'quantidade'"
      ],
      "metadata": {
        "id": "1NndRl7Bq3yN"
      },
      "execution_count": 41,
      "outputs": []
    },
    {
      "cell_type": "code",
      "source": [
        "title = f'Apuração Belo Horizonte/MG - Segundo turno de 2022 - {URNA}'\n",
        "x_lable = 'Voto'\n",
        "y_lable = 'Quantidade'"
      ],
      "metadata": {
        "id": "4PHyn-SAq3yO"
      },
      "execution_count": 50,
      "outputs": []
    },
    {
      "cell_type": "code",
      "source": [
        "with sns.axes_style('whitegrid'):\n",
        "  chart = sns.barplot(data=votes_table_agg, x=x_column, y=y_column)\n",
        "  chart.set(title=title, xlabel=x_lable, ylabel=y_lable);"
      ],
      "metadata": {
        "id": "1FkWOYQ0lWIi",
        "colab": {
          "base_uri": "https://localhost:8080/",
          "height": 295
        },
        "outputId": "f2f8e821-9863-45f5-d63f-75022141d03e"
      },
      "execution_count": 51,
      "outputs": [
        {
          "output_type": "display_data",
          "data": {
            "text/plain": [
              "<Figure size 432x288 with 1 Axes>"
            ],
            "image/png": "[encoded data removed]"
          },
          "metadata": {}
        }
      ]
    },
    {
      "cell_type": "markdown",
      "source": [
        "Nesta segunda visualização, vamos observar a **quantidade de votos relativos**."
      ],
      "metadata": {
        "id": "C8SJN63Qp5FC"
      }
    },
    {
      "cell_type": "code",
      "source": [
        "title = f'Apuração Belo Horizonte/MG - Segundo turno de 2022 - {URNA}'\n",
        "x_lable = 'Voto'\n",
        "y_lable = 'Quantidade (%)'"
      ],
      "metadata": {
        "id": "aMy65iinqEHJ"
      },
      "execution_count": 106,
      "outputs": []
    },
    {
      "cell_type": "code",
      "source": [
        "x_column = 'voto'\n",
        "y_column = '%'"
      ],
      "metadata": {
        "id": "iOXiDL_UqtnQ"
      },
      "execution_count": 45,
      "outputs": []
    },
    {
      "cell_type": "code",
      "source": [
        "with sns.axes_style('whitegrid'):\n",
        "  chart = sns.barplot(data=votes_table_agg, x=x_column, y=y_column)\n",
        "  chart.set(title=title, xlabel=x_lable, ylabel=y_lable);"
      ],
      "metadata": {
        "id": "2421F39nmDy4",
        "colab": {
          "base_uri": "https://localhost:8080/",
          "height": 295
        },
        "outputId": "eb103963-bb6a-48ef-edf3-eee372621417"
      },
      "execution_count": 46,
      "outputs": [
        {
          "output_type": "display_data",
          "data": {
            "text/plain": [
              "<Figure size 432x288 with 1 Axes>"
            ],
            "image/png": "[encoded data removed]"
          },
          "metadata": {}
        }
      ]
    },
    {
      "cell_type": "code",
      "source": [
        "#Usando matplotlib\n",
        "titulo = URNA\n",
        "df = pd.DataFrame(votes_table_agg)\n",
        "df.groupby(['voto']).sum().plot(kind='pie', y='quantidade', autopct='%.2f',\n",
        "                                explode=(0.05, 0.05, 0.5, 0.5),\n",
        "                                title=title)"
      ],
      "metadata": {
        "colab": {
          "base_uri": "https://localhost:8080/",
          "height": 299
        },
        "id": "ypIoWYqv15ZJ",
        "outputId": "5ef8d11b-d9c1-433b-f2f3-ec9ce063d170"
      },
      "execution_count": 135,
      "outputs": [
        {
          "output_type": "execute_result",
          "data": {
            "text/plain": [
              "<AxesSubplot:title={'center':'Apuração Belo Horizonte/MG - Segundo turno de 2022 - Zona 0031 - Seção 0001'}, ylabel='quantidade'>"
            ]
          },
          "metadata": {},
          "execution_count": 135
        },
        {
          "output_type": "display_data",
          "data": {
            "text/plain": [
              "<Figure size 432x288 with 1 Axes>"
            ],
            "image/png": "[encoded data removed]"
          },
          "metadata": {}
        }
      ]
    },
    {
      "cell_type": "markdown",
      "source": [
        "Usando ***matplotlib***"
      ],
      "metadata": {
        "id": "okx0Yjk_40sS"
      }
    },
    {
      "cell_type": "markdown",
      "source": [
        "## 5\\. Divulgação"
      ],
      "metadata": {
        "id": "6k-4cGE8mvep"
      }
    },
    {
      "cell_type": "markdown",
      "source": [
        "Expondo a análise de dados da **Eleição 2022**."
      ],
      "metadata": {
        "id": "k_JoHgsBnVFX"
      }
    },
    {
      "cell_type": "markdown",
      "source": [
        "### **5.1. Kaggle**"
      ],
      "metadata": {
        "id": "s9IZBReZnNAi"
      }
    },
    {
      "cell_type": "markdown",
      "metadata": {
        "id": "xnsoZc_wI0sl"
      },
      "source": [
        "[Kaggle](https://www.kaggle.com/) é a maior comunidade online de ciência de dados e aprendizado de máquina. A plataforma permite que usuários encontrem e publiquem **conjuntos de dados**, construam e compartilhem **notebooks** (como este do Google Colab) e participem de **competições** (que pagam muito dinheiro as vezes). "
      ]
    },
    {
      "cell_type": "markdown",
      "metadata": {
        "id": "7BqRKqRGJ0i2"
      },
      "source": [
        "> Publicando **notebook** na plataforma web do Kaggle."
      ]
    },
    {
      "cell_type": "markdown",
      "source": [
        " - Crie uma conta no Kaggle;\n",
        " - Faça o *download* do *notebook* do Google Colab;\n",
        " - Faça o *upload* do *notebook* no Kaggle."
      ],
      "metadata": {
        "id": "X0YmFIsjEjRK"
      }
    }
  ]
}